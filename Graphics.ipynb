{
 "cells": [
  {
   "cell_type": "markdown",
   "metadata": {},
   "source": [
    "## Disfigured Data Lab\n",
    "Here are a few scala statements to get you started on this lab"
   ]
  },
  {
   "cell_type": "markdown",
   "metadata": {},
   "source": [
    "### Imports"
   ]
  },
  {
   "cell_type": "code",
   "execution_count": 1,
   "metadata": {
    "collapsed": false
   },
   "outputs": [
    {
     "name": "stdout",
     "output_type": "stream",
     "text": [
      "Using cached version of jfreechart-1.0.13.jar\n",
      "Using cached version of jcommon-1.0.23.jar\n",
      "Using cached version of jfreesvg-2.0.jar\n"
     ]
    }
   ],
   "source": [
    "%addJar http://central.maven.org/maven2/jfree/jfreechart/1.0.13/jfreechart-1.0.13.jar\n",
    "%addJar http://central.maven.org/maven2/org/jfree/jcommon/1.0.23/jcommon-1.0.23.jar\n",
    "%addJar http://central.maven.org/maven2/org/jfree/jfreesvg/2.0/jfreesvg-2.0.jar"
   ]
  },
  {
   "cell_type": "code",
   "execution_count": 2,
   "metadata": {
    "collapsed": false
   },
   "outputs": [],
   "source": [
    "import java.util.Date\n",
    "import java.awt.Rectangle\n",
    "import org.jfree.data.category.DefaultCategoryDataset\n",
    "import org.jfree.chart.{ChartFactory, ChartPanel}\n",
    "import org.jfree.data.category.DefaultCategoryDataset\n",
    "import org.jfree.chart.plot.PlotOrientation\n",
    "import java.awt.BorderLayout"
   ]
  },
  {
   "cell_type": "code",
   "execution_count": 3,
   "metadata": {
    "collapsed": true
   },
   "outputs": [],
   "source": [
    "val data = new DefaultCategoryDataset"
   ]
  },
  {
   "cell_type": "code",
   "execution_count": 4,
   "metadata": {
    "collapsed": false
   },
   "outputs": [],
   "source": [
    "val ATTENTION = \"Attention\"\n",
    "val MEDITATION = \"Meditation\""
   ]
  },
  {
   "cell_type": "code",
   "execution_count": 5,
   "metadata": {
    "collapsed": false
   },
   "outputs": [],
   "source": [
    "    data.addValue(100.0, ATTENTION, 1:Integer)\n",
    "    data.addValue(200.0, ATTENTION, 2:Integer)\n",
    "    data.addValue(300.0, ATTENTION, 3:Integer)\n",
    "    data.addValue(400.0, ATTENTION, 4:Integer)\n",
    "    data.addValue(500.0, ATTENTION, 5:Integer)\n",
    "\n",
    "    data.addValue(500.0, MEDITATION, 1:Integer)\n",
    "    data.addValue(400.0, MEDITATION, 2:Integer)\n",
    "    data.addValue(300.0, MEDITATION, 3:Integer)\n",
    "    data.addValue(200.0, MEDITATION, 4:Integer)\n",
    "    data.addValue(100.0, MEDITATION, 5:Integer)"
   ]
  },
  {
   "cell_type": "code",
   "execution_count": 6,
   "metadata": {
    "collapsed": true
   },
   "outputs": [],
   "source": [
    " val chart = ChartFactory.createLineChart(\n",
    "        \"Brainwaves\", \"Time\", \"Value\",\n",
    "        data, PlotOrientation.VERTICAL,\n",
    "        true, true, true)"
   ]
  },
  {
   "cell_type": "code",
   "execution_count": 7,
   "metadata": {
    "collapsed": false
   },
   "outputs": [],
   "source": [
    "import org.jfree.graphics2d.svg.SVGGraphics2D"
   ]
  },
  {
   "cell_type": "code",
   "execution_count": 8,
   "metadata": {
    "collapsed": false
   },
   "outputs": [],
   "source": [
    "val g2 = new SVGGraphics2D(500,500)"
   ]
  },
  {
   "cell_type": "code",
   "execution_count": 9,
   "metadata": {
    "collapsed": true
   },
   "outputs": [],
   "source": [
    "val r = new Rectangle(0,0,500,500)"
   ]
  },
  {
   "cell_type": "code",
   "execution_count": 10,
   "metadata": {
    "collapsed": false
   },
   "outputs": [],
   "source": [
    "chart.draw(g2,r)"
   ]
  },
  {
   "cell_type": "code",
   "execution_count": 11,
   "metadata": {
    "collapsed": false
   },
   "outputs": [
    {
     "data": {
      "text/html": [
       "<svg xmlns=\"http://www.w3.org/2000/svg\" xmlns:xlink=\"http://www.w3.org/1999/xlink\" xmlns:jfreesvg=\"http://www.jfree.org/jfreesvg/svg\" width=\"500\" height=\"500\" text-rendering=\"auto\" shape-rendering=\"auto\">\n",
       "<defs><clipPath id=\"4084259300457980clip-0\"><path d=\"M 0 0 L 500 0 L 500 500 L 0 500 L 0 0 M 0 0\"/></clipPath>\n",
       "<clipPath id=\"4084259300457980clip-1\"><path d=\"M 247.59 208.69 L 247.59 708.69 L -252.41 708.69 L -252.41 208.69 L 247.59 208.69 M 247.59 208.69\"/></clipPath>\n",
       "<clipPath id=\"4084259300457980clip-2\"><path d=\"M 63.9 34.14 L 63.9 422.13 L 488 422.13 L 488 34.14 M 63.9 34.14\"/></clipPath>\n",
       "</defs>\n",
       "<rect x=\"0\" y=\"0\" width=\"500\" height=\"500\" style=\"fill: rgb(255,255,255); fill-opacity: 1.0\" transform=\"matrix(1,0,0,1,0,0)\" clip-path=\"url(#4084259300457980clip-0)\"/><g transform=\"matrix(1,0,0,1,0,0)\"><text x=\"191\" y=\"21.01\" style=\"fill: rgb(0,0,0); fill-opacity: 1.0; font-family: Tahoma; font-size: 20px; font-weight: bold; \" clip-path=\"url(#4084259300457980clip-0)\">Brainwaves</text></g><rect x=\"172.5\" y=\"476.52\" width=\"155\" height=\"22.48\" style=\"fill: rgb(255,255,255); fill-opacity: 1.0\" transform=\"matrix(1,0,0,1,0,0)\" clip-path=\"url(#4084259300457980clip-0)\"/><line x1=\"173\" y1=\"477.02\" x2=\"327\" y2=\"477.02\" style=\"stroke-width: 1.0;stroke: rgb(0,0,0);stroke-opacity: 1.0;\" transform=\"matrix(1,0,0,1,0,0)\" clip-path=\"url(#4084259300457980clip-0)\"/><line x1=\"173\" y1=\"498.5\" x2=\"327\" y2=\"498.5\" style=\"stroke-width: 1.0;stroke: rgb(0,0,0);stroke-opacity: 1.0;\" transform=\"matrix(1,0,0,1,0,0)\" clip-path=\"url(#4084259300457980clip-0)\"/><line x1=\"173\" y1=\"498.5\" x2=\"173\" y2=\"477.02\" style=\"stroke-width: 1.0;stroke: rgb(0,0,0);stroke-opacity: 1.0;\" transform=\"matrix(1,0,0,1,0,0)\" clip-path=\"url(#4084259300457980clip-0)\"/><line x1=\"327\" y1=\"498.5\" x2=\"327\" y2=\"477.02\" style=\"stroke-width: 1.0;stroke: rgb(0,0,0);stroke-opacity: 1.0;\" transform=\"matrix(1,0,0,1,0,0)\" clip-path=\"url(#4084259300457980clip-0)\"/><g style=\"stroke-width: 1.0;stroke: rgb(255,85,85);stroke-opacity: 1.0;; fill: none\" transform=\"matrix(1,0,0,1,0,0)\" clip-path=\"url(#4084259300457980clip-0)\"><path d=\"M 176.5 487.76 L 190.5 487.76\"/></g><g transform=\"matrix(1,0,0,1,0,0)\"><text x=\"194.5\" y=\"492.52\" style=\"fill: rgb(64,64,64); fill-opacity: 1.0; font-family: Tahoma; font-size: 12px; \" clip-path=\"url(#4084259300457980clip-0)\">Attention</text></g><g style=\"stroke-width: 1.0;stroke: rgb(85,85,255);stroke-opacity: 1.0;; fill: none\" transform=\"matrix(1,0,0,1,0,0)\" clip-path=\"url(#4084259300457980clip-0)\"><path d=\"M 249.5 487.76 L 263.5 487.76\"/></g><g transform=\"matrix(1,0,0,1,0,0)\"><text x=\"267.5\" y=\"492.52\" style=\"fill: rgb(64,64,64); fill-opacity: 1.0; font-family: Tahoma; font-size: 12px; \" clip-path=\"url(#4084259300457980clip-0)\">Meditation</text></g><rect x=\"63.9\" y=\"34.14\" width=\"424.1\" height=\"387.99\" style=\"fill: rgb(192,192,192); fill-opacity: 1.0\" transform=\"matrix(1,0,0,1,0,0)\" clip-path=\"url(#4084259300457980clip-0)\"/><line x1=\"63.9\" y1=\"426.13\" x2=\"488\" y2=\"426.13\" style=\"stroke-width: 1.0;stroke: rgb(128,128,128);stroke-opacity: 1.0;\" transform=\"matrix(1,0,0,1,0,0)\" clip-path=\"url(#4084259300457980clip-0)\"/><line x1=\"114.79\" y1=\"426.13\" x2=\"114.79\" y2=\"426.13\" style=\"stroke-width: 1.0;stroke: rgb(128,128,128);stroke-opacity: 1.0;\" transform=\"matrix(1,0,0,1,0,0)\" clip-path=\"url(#4084259300457980clip-0)\"/><line x1=\"114.79\" y1=\"426.13\" x2=\"114.79\" y2=\"428.13\" style=\"stroke-width: 1.0;stroke: rgb(128,128,128);stroke-opacity: 1.0;\" transform=\"matrix(1,0,0,1,0,0)\" clip-path=\"url(#4084259300457980clip-0)\"/><line x1=\"195.37\" y1=\"426.13\" x2=\"195.37\" y2=\"426.13\" style=\"stroke-width: 1.0;stroke: rgb(128,128,128);stroke-opacity: 1.0;\" transform=\"matrix(1,0,0,1,0,0)\" clip-path=\"url(#4084259300457980clip-0)\"/><line x1=\"195.37\" y1=\"426.13\" x2=\"195.37\" y2=\"428.13\" style=\"stroke-width: 1.0;stroke: rgb(128,128,128);stroke-opacity: 1.0;\" transform=\"matrix(1,0,0,1,0,0)\" clip-path=\"url(#4084259300457980clip-0)\"/><line x1=\"275.95\" y1=\"426.13\" x2=\"275.95\" y2=\"426.13\" style=\"stroke-width: 1.0;stroke: rgb(128,128,128);stroke-opacity: 1.0;\" transform=\"matrix(1,0,0,1,0,0)\" clip-path=\"url(#4084259300457980clip-0)\"/><line x1=\"275.95\" y1=\"426.13\" x2=\"275.95\" y2=\"428.13\" style=\"stroke-width: 1.0;stroke: rgb(128,128,128);stroke-opacity: 1.0;\" transform=\"matrix(1,0,0,1,0,0)\" clip-path=\"url(#4084259300457980clip-0)\"/><line x1=\"356.53\" y1=\"426.13\" x2=\"356.53\" y2=\"426.13\" style=\"stroke-width: 1.0;stroke: rgb(128,128,128);stroke-opacity: 1.0;\" transform=\"matrix(1,0,0,1,0,0)\" clip-path=\"url(#4084259300457980clip-0)\"/><line x1=\"356.53\" y1=\"426.13\" x2=\"356.53\" y2=\"428.13\" style=\"stroke-width: 1.0;stroke: rgb(128,128,128);stroke-opacity: 1.0;\" transform=\"matrix(1,0,0,1,0,0)\" clip-path=\"url(#4084259300457980clip-0)\"/><line x1=\"437.11\" y1=\"426.13\" x2=\"437.11\" y2=\"426.13\" style=\"stroke-width: 1.0;stroke: rgb(128,128,128);stroke-opacity: 1.0;\" transform=\"matrix(1,0,0,1,0,0)\" clip-path=\"url(#4084259300457980clip-0)\"/><line x1=\"437.11\" y1=\"426.13\" x2=\"437.11\" y2=\"428.13\" style=\"stroke-width: 1.0;stroke: rgb(128,128,128);stroke-opacity: 1.0;\" transform=\"matrix(1,0,0,1,0,0)\" clip-path=\"url(#4084259300457980clip-0)\"/><g transform=\"matrix(1,0,0,1,0,0)\"><text x=\"111.29\" y=\"444.14\" style=\"fill: rgb(64,64,64); fill-opacity: 1.0; font-family: Tahoma; font-size: 12px; \" clip-path=\"url(#4084259300457980clip-0)\">1</text></g><g transform=\"matrix(1,0,0,1,0,0)\"><text x=\"191.87\" y=\"444.14\" style=\"fill: rgb(64,64,64); fill-opacity: 1.0; font-family: Tahoma; font-size: 12px; \" clip-path=\"url(#4084259300457980clip-0)\">2</text></g><g transform=\"matrix(1,0,0,1,0,0)\"><text x=\"272.45\" y=\"444.14\" style=\"fill: rgb(64,64,64); fill-opacity: 1.0; font-family: Tahoma; font-size: 12px; \" clip-path=\"url(#4084259300457980clip-0)\">3</text></g><g transform=\"matrix(1,0,0,1,0,0)\"><text x=\"353.03\" y=\"444.14\" style=\"fill: rgb(64,64,64); fill-opacity: 1.0; font-family: Tahoma; font-size: 12px; \" clip-path=\"url(#4084259300457980clip-0)\">4</text></g><g transform=\"matrix(1,0,0,1,0,0)\"><text x=\"433.61\" y=\"444.14\" style=\"fill: rgb(64,64,64); fill-opacity: 1.0; font-family: Tahoma; font-size: 12px; \" clip-path=\"url(#4084259300457980clip-0)\">5</text></g><g transform=\"matrix(1,0,0,1,0,0)\"><text x=\"258.95\" y=\"467.62\" style=\"fill: rgb(64,64,64); fill-opacity: 1.0; font-family: Tahoma; font-size: 14px; font-weight: bold; \" clip-path=\"url(#4084259300457980clip-0)\">Time</text></g><line x1=\"59.9\" y1=\"34.14\" x2=\"59.9\" y2=\"422.13\" style=\"stroke-width: 1.0;stroke: rgb(128,128,128);stroke-opacity: 1.0;\" transform=\"matrix(1,0,0,1,0,0)\" clip-path=\"url(#4084259300457980clip-0)\"/><g transform=\"matrix(1,0,0,1,0,0)\"><text x=\"46.9\" y=\"426.9\" style=\"fill: rgb(64,64,64); fill-opacity: 1.0; font-family: Tahoma; font-size: 12px; \" clip-path=\"url(#4084259300457980clip-0)\">0</text></g><line x1=\"57.9\" y1=\"422.13\" x2=\"59.9\" y2=\"422.13\" style=\"stroke-width: 1.0;stroke: rgb(128,128,128);stroke-opacity: 1.0;\" transform=\"matrix(1,0,0,1,0,0)\" clip-path=\"url(#4084259300457980clip-0)\"/><g transform=\"matrix(1,0,0,1,0,0)\"><text x=\"39.9\" y=\"389.94\" style=\"fill: rgb(64,64,64); fill-opacity: 1.0; font-family: Tahoma; font-size: 12px; \" clip-path=\"url(#4084259300457980clip-0)\">50</text></g><line x1=\"57.9\" y1=\"385.18\" x2=\"59.9\" y2=\"385.18\" style=\"stroke-width: 1.0;stroke: rgb(128,128,128);stroke-opacity: 1.0;\" transform=\"matrix(1,0,0,1,0,0)\" clip-path=\"url(#4084259300457980clip-0)\"/><g transform=\"matrix(1,0,0,1,0,0)\"><text x=\"32.9\" y=\"352.99\" style=\"fill: rgb(64,64,64); fill-opacity: 1.0; font-family: Tahoma; font-size: 12px; \" clip-path=\"url(#4084259300457980clip-0)\">100</text></g><line x1=\"57.9\" y1=\"348.23\" x2=\"59.9\" y2=\"348.23\" style=\"stroke-width: 1.0;stroke: rgb(128,128,128);stroke-opacity: 1.0;\" transform=\"matrix(1,0,0,1,0,0)\" clip-path=\"url(#4084259300457980clip-0)\"/><g transform=\"matrix(1,0,0,1,0,0)\"><text x=\"32.9\" y=\"316.04\" style=\"fill: rgb(64,64,64); fill-opacity: 1.0; font-family: Tahoma; font-size: 12px; \" clip-path=\"url(#4084259300457980clip-0)\">150</text></g><line x1=\"57.9\" y1=\"311.28\" x2=\"59.9\" y2=\"311.28\" style=\"stroke-width: 1.0;stroke: rgb(128,128,128);stroke-opacity: 1.0;\" transform=\"matrix(1,0,0,1,0,0)\" clip-path=\"url(#4084259300457980clip-0)\"/><g transform=\"matrix(1,0,0,1,0,0)\"><text x=\"32.9\" y=\"279.09\" style=\"fill: rgb(64,64,64); fill-opacity: 1.0; font-family: Tahoma; font-size: 12px; \" clip-path=\"url(#4084259300457980clip-0)\">200</text></g><line x1=\"57.9\" y1=\"274.33\" x2=\"59.9\" y2=\"274.33\" style=\"stroke-width: 1.0;stroke: rgb(128,128,128);stroke-opacity: 1.0;\" transform=\"matrix(1,0,0,1,0,0)\" clip-path=\"url(#4084259300457980clip-0)\"/><g transform=\"matrix(1,0,0,1,0,0)\"><text x=\"32.9\" y=\"242.14\" style=\"fill: rgb(64,64,64); fill-opacity: 1.0; font-family: Tahoma; font-size: 12px; \" clip-path=\"url(#4084259300457980clip-0)\">250</text></g><line x1=\"57.9\" y1=\"237.37\" x2=\"59.9\" y2=\"237.37\" style=\"stroke-width: 1.0;stroke: rgb(128,128,128);stroke-opacity: 1.0;\" transform=\"matrix(1,0,0,1,0,0)\" clip-path=\"url(#4084259300457980clip-0)\"/><g transform=\"matrix(1,0,0,1,0,0)\"><text x=\"32.9\" y=\"205.19\" style=\"fill: rgb(64,64,64); fill-opacity: 1.0; font-family: Tahoma; font-size: 12px; \" clip-path=\"url(#4084259300457980clip-0)\">300</text></g><line x1=\"57.9\" y1=\"200.42\" x2=\"59.9\" y2=\"200.42\" style=\"stroke-width: 1.0;stroke: rgb(128,128,128);stroke-opacity: 1.0;\" transform=\"matrix(1,0,0,1,0,0)\" clip-path=\"url(#4084259300457980clip-0)\"/><g transform=\"matrix(1,0,0,1,0,0)\"><text x=\"32.9\" y=\"168.24\" style=\"fill: rgb(64,64,64); fill-opacity: 1.0; font-family: Tahoma; font-size: 12px; \" clip-path=\"url(#4084259300457980clip-0)\">350</text></g><line x1=\"57.9\" y1=\"163.47\" x2=\"59.9\" y2=\"163.47\" style=\"stroke-width: 1.0;stroke: rgb(128,128,128);stroke-opacity: 1.0;\" transform=\"matrix(1,0,0,1,0,0)\" clip-path=\"url(#4084259300457980clip-0)\"/><g transform=\"matrix(1,0,0,1,0,0)\"><text x=\"32.9\" y=\"131.28\" style=\"fill: rgb(64,64,64); fill-opacity: 1.0; font-family: Tahoma; font-size: 12px; \" clip-path=\"url(#4084259300457980clip-0)\">400</text></g><line x1=\"57.9\" y1=\"126.52\" x2=\"59.9\" y2=\"126.52\" style=\"stroke-width: 1.0;stroke: rgb(128,128,128);stroke-opacity: 1.0;\" transform=\"matrix(1,0,0,1,0,0)\" clip-path=\"url(#4084259300457980clip-0)\"/><g transform=\"matrix(1,0,0,1,0,0)\"><text x=\"32.9\" y=\"94.33\" style=\"fill: rgb(64,64,64); fill-opacity: 1.0; font-family: Tahoma; font-size: 12px; \" clip-path=\"url(#4084259300457980clip-0)\">450</text></g><line x1=\"57.9\" y1=\"89.57\" x2=\"59.9\" y2=\"89.57\" style=\"stroke-width: 1.0;stroke: rgb(128,128,128);stroke-opacity: 1.0;\" transform=\"matrix(1,0,0,1,0,0)\" clip-path=\"url(#4084259300457980clip-0)\"/><g transform=\"matrix(1,0,0,1,0,0)\"><text x=\"32.9\" y=\"57.38\" style=\"fill: rgb(64,64,64); fill-opacity: 1.0; font-family: Tahoma; font-size: 12px; \" clip-path=\"url(#4084259300457980clip-0)\">500</text></g><line x1=\"57.9\" y1=\"52.62\" x2=\"59.9\" y2=\"52.62\" style=\"stroke-width: 1.0;stroke: rgb(128,128,128);stroke-opacity: 1.0;\" transform=\"matrix(1,0,0,1,0,0)\" clip-path=\"url(#4084259300457980clip-0)\"/><g transform=\"matrix(0,-1,1,0,-208.6875,247.585938)\"><text x=\"0.45\" y=\"233.69\" style=\"fill: rgb(64,64,64); fill-opacity: 1.0; font-family: Tahoma; font-size: 14px; font-weight: bold; \" clip-path=\"url(#4084259300457980clip-1)\">Value</text></g><line x1=\"63.9\" y1=\"422.13\" x2=\"488\" y2=\"422.13\" style=\"stroke-width: 0.5;stroke: rgb(255,255,255);stroke-opacity: 1.0;stroke-dasharray: 2.0, 2.0;\" transform=\"matrix(1,0,0,1,0,0)\" clip-path=\"url(#4084259300457980clip-2)\"/><line x1=\"63.9\" y1=\"385.18\" x2=\"488\" y2=\"385.18\" style=\"stroke-width: 0.5;stroke: rgb(255,255,255);stroke-opacity: 1.0;stroke-dasharray: 2.0, 2.0;\" transform=\"matrix(1,0,0,1,0,0)\" clip-path=\"url(#4084259300457980clip-2)\"/><line x1=\"63.9\" y1=\"348.23\" x2=\"488\" y2=\"348.23\" style=\"stroke-width: 0.5;stroke: rgb(255,255,255);stroke-opacity: 1.0;stroke-dasharray: 2.0, 2.0;\" transform=\"matrix(1,0,0,1,0,0)\" clip-path=\"url(#4084259300457980clip-2)\"/><line x1=\"63.9\" y1=\"311.28\" x2=\"488\" y2=\"311.28\" style=\"stroke-width: 0.5;stroke: rgb(255,255,255);stroke-opacity: 1.0;stroke-dasharray: 2.0, 2.0;\" transform=\"matrix(1,0,0,1,0,0)\" clip-path=\"url(#4084259300457980clip-2)\"/><line x1=\"63.9\" y1=\"274.33\" x2=\"488\" y2=\"274.33\" style=\"stroke-width: 0.5;stroke: rgb(255,255,255);stroke-opacity: 1.0;stroke-dasharray: 2.0, 2.0;\" transform=\"matrix(1,0,0,1,0,0)\" clip-path=\"url(#4084259300457980clip-2)\"/><line x1=\"63.9\" y1=\"237.37\" x2=\"488\" y2=\"237.37\" style=\"stroke-width: 0.5;stroke: rgb(255,255,255);stroke-opacity: 1.0;stroke-dasharray: 2.0, 2.0;\" transform=\"matrix(1,0,0,1,0,0)\" clip-path=\"url(#4084259300457980clip-2)\"/><line x1=\"63.9\" y1=\"200.42\" x2=\"488\" y2=\"200.42\" style=\"stroke-width: 0.5;stroke: rgb(255,255,255);stroke-opacity: 1.0;stroke-dasharray: 2.0, 2.0;\" transform=\"matrix(1,0,0,1,0,0)\" clip-path=\"url(#4084259300457980clip-2)\"/><line x1=\"63.9\" y1=\"163.47\" x2=\"488\" y2=\"163.47\" style=\"stroke-width: 0.5;stroke: rgb(255,255,255);stroke-opacity: 1.0;stroke-dasharray: 2.0, 2.0;\" transform=\"matrix(1,0,0,1,0,0)\" clip-path=\"url(#4084259300457980clip-2)\"/><line x1=\"63.9\" y1=\"126.52\" x2=\"488\" y2=\"126.52\" style=\"stroke-width: 0.5;stroke: rgb(255,255,255);stroke-opacity: 1.0;stroke-dasharray: 2.0, 2.0;\" transform=\"matrix(1,0,0,1,0,0)\" clip-path=\"url(#4084259300457980clip-2)\"/><line x1=\"63.9\" y1=\"89.57\" x2=\"488\" y2=\"89.57\" style=\"stroke-width: 0.5;stroke: rgb(255,255,255);stroke-opacity: 1.0;stroke-dasharray: 2.0, 2.0;\" transform=\"matrix(1,0,0,1,0,0)\" clip-path=\"url(#4084259300457980clip-2)\"/><line x1=\"63.9\" y1=\"52.62\" x2=\"488\" y2=\"52.62\" style=\"stroke-width: 0.5;stroke: rgb(255,255,255);stroke-opacity: 1.0;stroke-dasharray: 2.0, 2.0;\" transform=\"matrix(1,0,0,1,0,0)\" clip-path=\"url(#4084259300457980clip-2)\"/><line x1=\"114.79\" y1=\"348.23\" x2=\"195.37\" y2=\"274.33\" style=\"stroke-width: 1.0;stroke: rgb(255,85,85);stroke-opacity: 1.0;\" transform=\"matrix(1,0,0,1,0,0)\" clip-path=\"url(#4084259300457980clip-2)\"/><line x1=\"114.79\" y1=\"52.62\" x2=\"195.37\" y2=\"126.52\" style=\"stroke-width: 1.0;stroke: rgb(85,85,255);stroke-opacity: 1.0;\" transform=\"matrix(1,0,0,1,0,0)\" clip-path=\"url(#4084259300457980clip-2)\"/><line x1=\"195.37\" y1=\"274.33\" x2=\"275.95\" y2=\"200.42\" style=\"stroke-width: 1.0;stroke: rgb(255,85,85);stroke-opacity: 1.0;\" transform=\"matrix(1,0,0,1,0,0)\" clip-path=\"url(#4084259300457980clip-2)\"/><line x1=\"195.37\" y1=\"126.52\" x2=\"275.95\" y2=\"200.42\" style=\"stroke-width: 1.0;stroke: rgb(85,85,255);stroke-opacity: 1.0;\" transform=\"matrix(1,0,0,1,0,0)\" clip-path=\"url(#4084259300457980clip-2)\"/><line x1=\"275.95\" y1=\"200.42\" x2=\"356.53\" y2=\"126.52\" style=\"stroke-width: 1.0;stroke: rgb(255,85,85);stroke-opacity: 1.0;\" transform=\"matrix(1,0,0,1,0,0)\" clip-path=\"url(#4084259300457980clip-2)\"/><line x1=\"275.95\" y1=\"200.42\" x2=\"356.53\" y2=\"274.33\" style=\"stroke-width: 1.0;stroke: rgb(85,85,255);stroke-opacity: 1.0;\" transform=\"matrix(1,0,0,1,0,0)\" clip-path=\"url(#4084259300457980clip-2)\"/><line x1=\"356.53\" y1=\"126.52\" x2=\"437.11\" y2=\"52.62\" style=\"stroke-width: 1.0;stroke: rgb(255,85,85);stroke-opacity: 1.0;\" transform=\"matrix(1,0,0,1,0,0)\" clip-path=\"url(#4084259300457980clip-2)\"/><line x1=\"356.53\" y1=\"274.33\" x2=\"437.11\" y2=\"348.23\" style=\"stroke-width: 1.0;stroke: rgb(85,85,255);stroke-opacity: 1.0;\" transform=\"matrix(1,0,0,1,0,0)\" clip-path=\"url(#4084259300457980clip-2)\"/><rect x=\"63.9\" y=\"34.14\" width=\"424.1\" height=\"387.99\" style=\"stroke-width: 0.5;stroke: rgb(0,0,0);stroke-opacity: 1.0;; fill: none\" transform=\"matrix(1,0,0,1,0,0)\" clip-path=\"url(#4084259300457980clip-0)\"/></svg>"
      ]
     },
     "execution_count": 11,
     "metadata": {},
     "output_type": "execute_result"
    }
   ],
   "source": [
    "kernel.magics.html(g2.getSVGElement.toString)"
   ]
  },
  {
   "cell_type": "code",
   "execution_count": null,
   "metadata": {
    "collapsed": true
   },
   "outputs": [],
   "source": []
  }
 ],
 "metadata": {
  "kernelspec": {
   "display_name": "Spark 1.2.1 (Scala 2.10.4)",
   "language": "scala",
   "name": "spark"
  },
  "language_info": {
   "name": "scala"
  }
 },
 "nbformat": 4,
 "nbformat_minor": 0
}
