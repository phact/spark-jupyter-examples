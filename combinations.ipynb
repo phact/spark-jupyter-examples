{
 "cells": [
  {
   "cell_type": "markdown",
   "metadata": {},
   "source": [
    "#### Scala can already make combinations of set elements"
   ]
  },
  {
   "cell_type": "code",
   "execution_count": 1,
   "metadata": {
    "collapsed": false
   },
   "outputs": [],
   "source": [
    "val things = Set(\"phone\",\"card\",\"key\",\"vase\",\"mirror\",\"water\",\"trail mix\", \"kale\")"
   ]
  },
  {
   "cell_type": "code",
   "execution_count": 2,
   "metadata": {
    "collapsed": false
   },
   "outputs": [
    {
     "data": {
      "text/plain": [
       "Set(trail mix, kale, key, water, card, mirror, vase, phone)"
      ]
     },
     "execution_count": 2,
     "metadata": {},
     "output_type": "execute_result"
    }
   ],
   "source": [
    "things"
   ]
  },
  {
   "cell_type": "code",
   "execution_count": 3,
   "metadata": {
    "collapsed": false,
    "scrolled": true
   },
   "outputs": [
    {
     "name": "stdout",
     "output_type": "stream",
     "text": [
      "Set(trail mix, kale, key)\n",
      "Set(trail mix, kale, water)\n",
      "Set(trail mix, kale, card)\n",
      "Set(trail mix, kale, mirror)\n",
      "Set(trail mix, kale, vase)\n",
      "Set(trail mix, kale, phone)\n",
      "Set(trail mix, key, water)\n",
      "Set(trail mix, key, card)\n",
      "Set(trail mix, key, mirror)\n",
      "Set(trail mix, key, vase)\n",
      "Set(trail mix, key, phone)\n",
      "Set(trail mix, water, card)\n",
      "Set(trail mix, water, mirror)\n",
      "Set(trail mix, water, vase)\n",
      "Set(trail mix, water, phone)\n",
      "Set(trail mix, card, mirror)\n",
      "Set(trail mix, card, vase)\n",
      "Set(trail mix, card, phone)\n",
      "Set(trail mix, mirror, vase)\n",
      "Set(trail mix, mirror, phone)\n",
      "Set(trail mix, vase, phone)\n",
      "Set(kale, key, water)\n",
      "Set(kale, key, card)\n",
      "Set(kale, key, mirror)\n",
      "Set(kale, key, vase)\n",
      "Set(kale, key, phone)\n",
      "Set(kale, water, card)\n",
      "Set(kale, water, mirror)\n",
      "Set(kale, water, vase)\n",
      "Set(kale, water, phone)\n",
      "Set(kale, card, mirror)\n",
      "Set(kale, card, vase)\n",
      "Set(kale, card, phone)\n",
      "Set(kale, mirror, vase)\n",
      "Set(kale, mirror, phone)\n",
      "Set(kale, vase, phone)\n",
      "Set(key, water, card)\n",
      "Set(key, water, mirror)\n",
      "Set(key, water, vase)\n",
      "Set(key, water, phone)\n",
      "Set(key, card, mirror)\n",
      "Set(key, card, vase)\n",
      "Set(key, card, phone)\n",
      "Set(key, mirror, vase)\n",
      "Set(key, mirror, phone)\n",
      "Set(key, vase, phone)\n",
      "Set(water, card, mirror)\n",
      "Set(water, card, vase)\n",
      "Set(water, card, phone)\n",
      "Set(water, mirror, vase)\n",
      "Set(water, mirror, phone)\n",
      "Set(water, vase, phone)\n",
      "Set(card, mirror, vase)\n",
      "Set(card, mirror, phone)\n",
      "Set(card, vase, phone)\n",
      "Set(mirror, vase, phone)\n"
     ]
    }
   ],
   "source": [
    "things.subsets(3) foreach println"
   ]
  },
  {
   "cell_type": "markdown",
   "metadata": {},
   "source": [
    "#### Note: Should really model a table with receipt_id, set(skus)  or date, receipt_id, skus, primary key ((date,store),receiptid) just to keep partitions balanced.   This solution just makes an rdd like that with the existing tables using group by, but change it out to and rdd based on the new table "
   ]
  },
  {
   "cell_type": "code",
   "execution_count": 4,
   "metadata": {
    "collapsed": false
   },
   "outputs": [],
   "source": [
    "val items = sc.cassandraTable(\"retail\",\"receipts\").select(\"receipt_id\", \"product_id\").map( r => (r.getString(0), r.getString(1)))"
   ]
  },
  {
   "cell_type": "code",
   "execution_count": 5,
   "metadata": {
    "collapsed": false
   },
   "outputs": [],
   "source": [
    "val itemsByReceipt = items.groupByKey.sample(false, 0.1)"
   ]
  },
  {
   "cell_type": "code",
   "execution_count": 6,
   "metadata": {
    "collapsed": false
   },
   "outputs": [
    {
     "data": {
      "text/plain": [
       "PartitionwiseSampledRDD[5] at sample at <console>:19"
      ]
     },
     "execution_count": 6,
     "metadata": {},
     "output_type": "execute_result"
    }
   ],
   "source": [
    "itemsByReceipt.cache"
   ]
  },
  {
   "cell_type": "markdown",
   "metadata": {},
   "source": [
    "for each group, pull out the set, and subsets(3) will give you an **iterator** over all of the combos of 3.  We need to list to materialize the subsets.  We then flatmap it to yield an RDD of sets of 3 items from the same receipt."
   ]
  },
  {
   "cell_type": "code",
   "execution_count": 7,
   "metadata": {
    "collapsed": false
   },
   "outputs": [
    {
     "data": {
      "text/plain": [
       "Array(Set(9000479, K8E30AA, HA124A1#58E), Set(9000479, K8E30AA, HDMIMM20HS), Set(9000479, K8E30AA, U2QV5E), Set(9000479, K8E30AA, 400-00), Set(9000479, K8E30AA, 20002584), Set(9000479, K8E30AA, MUSCP0320), Set(9000479, HA124A1#58E, HDMIMM20HS), Set(9000479, HA124A1#58E, U2QV5E), Set(9000479, HA124A1#58E, 400-00), Set(9000479, HA124A1#58E, 20002584))"
      ]
     },
     "execution_count": 7,
     "metadata": {},
     "output_type": "execute_result"
    }
   ],
   "source": [
    "val combinations = itemsByReceipt.flatMap(_._2.toSet.subsets(3).toList)\n",
    "combinations.cache\n",
    "combinations take 10"
   ]
  },
  {
   "cell_type": "markdown",
   "metadata": {},
   "source": [
    "count the prevalence in an rdd."
   ]
  },
  {
   "cell_type": "code",
   "execution_count": 14,
   "metadata": {
    "collapsed": false
   },
   "outputs": [
    {
     "name": "stdout",
     "output_type": "stream",
     "text": [
      "(Set(WG-C20NB, AG647A, UE40H6670SZXZT),6)\n",
      "(Set(1KH0.002.01, 0048, HA103A3#7GF),6)\n",
      "(Set(KTL-TP3C/8G, CB458A, DP2VGA),6)\n",
      "(Set(UE46H6203AWXXN, 32PF7320, KTN-PM667/1G),6)\n",
      "(Set(T110-8319, 40K1042, A0J99A),6)\n",
      "(Set(CB458A, U4544E, DP2VGA),6)\n",
      "(Set(405-31, HA103A3#7GD, U3VK1E),6)\n",
      "(Set(U4CQ1PE, HA103A3#87F, 7020-6607),6)\n",
      "(Set(HA103A3#7GD, U3VK1E, 42LM340S),5)\n",
      "(Set(461137-B21, DCS-3411, DSS-101-BLACK),5)\n"
     ]
    }
   ],
   "source": [
    "combinations.map((_,1)).reduceByKey(_+_).sortBy(-_._2) take 10 foreach println"
   ]
  },
  {
   "cell_type": "markdown",
   "metadata": {
    "collapsed": false
   },
   "source": [
    "### All Together\n",
    "* Note: Items are just (receipt, product_id) pairs\n",
    "```\n",
    "    val items = sc.cassandraTable(\"retail\",\"receipts\").select(\"receipt_id\", \"product_id\").map( r => (r.getString(0), r.getString(1)))\n",
    "```\n",
    "* To save time, we look at a sample of 10% of the receipts"
   ]
  },
  {
   "cell_type": "code",
   "execution_count": 23,
   "metadata": {
    "collapsed": false
   },
   "outputs": [
    {
     "name": "stdout",
     "output_type": "stream",
     "text": [
      "(Set(U9P73E, BWM685EA1, HQ284E),7)\n",
      "(Set(7020-7611, 406551710, 3020-3769),7)\n",
      "(Set(DVM63HDV, 508-46, U3SN0E),6)\n",
      "(Set(3610-3554, 40X7540, UX151E),6)\n",
      "(Set(UE40H5570SSXZG, 402-57, A0J99A),6)\n",
      "(Set(90-XB1X00MU00020, 405-48, H2W15AA#ABB),6)\n",
      "(Set(7100V_DNM, HA103A3#7GD, 42LM340S),5)\n",
      "(Set(DMC-1002, MUSKI0172, U3WB3E),5)\n",
      "(Set(I16988, GE60 2PE-494TR, CA026D7020MT11),5)\n",
      "(Set(T110-2303, U4VD6E, U3RS0PE),5)\n"
     ]
    }
   ],
   "source": [
    "items.groupByKey.sample(false, 0.1).flatMap(_._2.toSet.subsets(3).toList).map((_,1)).reduceByKey(_+_).sortBy(-_._2) take 10 foreach println"
   ]
  },
  {
   "cell_type": "markdown",
   "metadata": {},
   "source": [
    "## And all of the Data"
   ]
  },
  {
   "cell_type": "code",
   "execution_count": 24,
   "metadata": {
    "collapsed": false
   },
   "outputs": [
    {
     "name": "stdout",
     "output_type": "stream",
     "text": [
      "(Set(25204900, 379614810, 460-10),22)\n",
      "(Set(U3VF7E, 32L1400UC, ECCLSPRMULT),21)\n",
      "(Set(UE40H6620SVXZG, 90R-N00WR1000T, 133-28),20)\n",
      "(Set(TK-410, 71P9158, TQXS48),19)\n",
      "(Set(KDL-40HX855, P566-016, 3020-8823),19)\n",
      "(Set(1T02G10EU0, 437372-B21, ILCE7M2KB.CEC),18)\n",
      "(Set(3600531082703, UE48H6410SSXXH, U3SP7E),18)\n",
      "(Set(PS23N1THIN50, U3WL1E, UE55F6770SSXXN),18)\n",
      "(Set(HA454A1#000, U6PJ6E, RF5-1835-000CN),18)\n",
      "(Set(PSCLUU-02G075, 420-07, U4HE8E),18)\n"
     ]
    }
   ],
   "source": [
    "items.groupByKey.flatMap(_._2.toSet.subsets(3).toList).map((_,1)).reduceByKey(_+_).sortBy(-_._2) take 10 foreach println"
   ]
  },
  {
   "cell_type": "code",
   "execution_count": 25,
   "metadata": {
    "collapsed": true
   },
   "outputs": [],
   "source": [
    "var results = items.groupByKey.sample(false, 0.1).flatMap(_._2.toSet.subsets(3).toList).map((_,1)).reduceByKey(_+_).sortBy(-_._2) ta"
   ]
  },
  {
   "cell_type": "code",
   "execution_count": 32,
   "metadata": {
    "collapsed": false
   },
   "outputs": [
    {
     "name": "stdout",
     "output_type": "stream",
     "text": [
      "Set(DIR-615, HQ-HP10IPB, A3L980B02M-REDS)\n",
      "Set(GF343AA, CZ155A, P-HD-2PXB57O)\n",
      "Set(KVR1333D3E9SK3/24G, 3600522891437, MUSCP0812)\n",
      "Set(HA103A3#7GQ, U9P78E, 5810-0177)\n",
      "Set(US765PE, EL800USBIEC, U9Q44E)\n",
      "Set(SDRW-08D3S-U, MW-140BTF, 73P2656)\n",
      "Set(GT-S5830OKI, 8287B006, 9020-3905)\n",
      "Set(U4GM0PE, UE32H6470SSXZG, U2YQ5PE)\n",
      "Set(440-84, U3SQ2PE, E2Q81AA)\n",
      "Set(NWZE574B, BX80621E52630, 6M.GCGD5.001)\n"
     ]
    }
   ],
   "source": [
    "results.map(_._1.toString).foreach(println)"
   ]
  },
  {
   "cell_type": "code",
   "execution_count": 44,
   "metadata": {
    "collapsed": false
   },
   "outputs": [
    {
     "data": {
      "text/html": [
       "<table><tr><td>DIR-615,HQ-HP10IPB,A3L980B02M-REDS </td></tr> <tr><td>GF343AA,CZ155A,P-HD-2PXB57O </td></tr> <tr><td>KVR1333D3E9SK3/24G,3600522891437,MUSCP0812 </td></tr> <tr><td>HA103A3#7GQ,U9P78E,5810-0177 </td></tr> <tr><td>US765PE,EL800USBIEC,U9Q44E </td></tr> <tr><td>SDRW-08D3S-U,MW-140BTF,73P2656 </td></tr> <tr><td>GT-S5830OKI,8287B006,9020-3905 </td></tr> <tr><td>U4GM0PE,UE32H6470SSXZG,U2YQ5PE </td></tr> <tr><td>440-84,U3SQ2PE,E2Q81AA </td></tr> <tr><td>NWZE574B,BX80621E52630,6M.GCGD5.001 </td></tr></table>"
      ]
     },
     "execution_count": 44,
     "metadata": {},
     "output_type": "execute_result"
    }
   ],
   "source": [
    "kernel.magics.html(\"<table>\" + results.map(x => \"<tr><td>\" + x._1.mkString(\",\") + \" </td></tr>\").mkString(\" \") + \"</table>\")"
   ]
  },
  {
   "cell_type": "code",
   "execution_count": 61,
   "metadata": {
    "collapsed": false
   },
   "outputs": [],
   "source": [
    "val productMap = sc.cassandraTable(\"retail\",\"products_by_id\").select(\"product_id\",\"title\").as((_:String,_:String)).collect.toList.toMap"
   ]
  },
  {
   "cell_type": "code",
   "execution_count": 64,
   "metadata": {
    "collapsed": false
   },
   "outputs": [],
   "source": [
    "val names = results.map(_._1.map(x => (x,productMap{x})))"
   ]
  },
  {
   "cell_type": "code",
   "execution_count": 66,
   "metadata": {
    "collapsed": false
   },
   "outputs": [
    {
     "data": {
      "text/html": [
       "<table><tr><td>(DIR-615,D-Link DIR-615 Wireless N Router),(HQ-HP10IPB,HQ HP10IPB),(A3L980B02M-REDS,Belkin SNAGLESS CAT6 PATCH CABLE) </td></tr> <tr><td>(GF343AA,HP 16X SATA SuperMulti LightScribe Drive),(CZ155A,HP Officejet 6600 e-AiO),(P-HD-2PXB57O,Samsung P-HD-2PXB57O) </td></tr> <tr><td>(KVR1333D3E9SK3/24G,Kingston Technology ValueRAM KVR1333D3E9SK3),(3600522891437,L’Oréal Paris Color Riche Accords Intenses 703 Oud Obsession),(MUSCP0812,Muvit MUSCP0812 screen protector) </td></tr> <tr><td>(HA103A3#7GQ,HP 3y 4H 13x5 MSA1500 HW Support),(U9P78E,HP 4y6h24x7w/CDMR5830-96G Switch HW Suppo),(5810-0177,DELL Precision T5810) </td></tr> <tr><td>(US765PE,HP 1y PW 4h 13x5 1606 Base Swtch HW Supp),(EL800USBIEC,Eaton Ellipse ECO 800 USB IEC),(U9Q44E,HP 4y6h24x7w/CDMR25/26xx/Wireless HWSupp) </td></tr> <tr><td>(SDRW-08D3S-U,ASUS SDRW-08D3S-U),(MW-140BTF,Brother MW-140BT Mobile Printer),(73P2656,Lenovo 73P2656) </td></tr> <tr><td>(GT-S5830OKI,Samsung Galaxy Ace GT-S5830 0.158GB Black),(8287B006,Canon PG-545/CL-546 Multipack),(9020-3905,DELL OptiPlex 9020) </td></tr> <tr><td>(U4GM0PE,HP 1y PWNbdw/CDMR95/75xxldblnc mod FCSVC),(UE32H6470SSXZG,Samsung UE32H6470),(U2YQ5PE,HP 1y PW Nbd w/DMR DL785 G6 FC SVC) </td></tr> <tr><td>(440-84,Sandberg MicroUSB Cable Flat 0.15m),(U3SQ2PE,HP 1y PW Nbd Exch MSR900 Rtr FC SVC),(E2Q81AA,HP Z820 Xeon E5-2667v2 3.3GHz 1866MHz 8 Core 2nd CPU) </td></tr> <tr><td>(NWZE574B,Sony NWZ-E574 8GB Walkman® Video MP3 player),(BX80621E52630,Intel Xeon E5-2630),(6M.GCGD5.001,Acer 6M.GCGD5.001) </td></tr></table>"
      ]
     },
     "execution_count": 66,
     "metadata": {},
     "output_type": "execute_result"
    }
   ],
   "source": [
    "kernel.magics.html(\"<table>\" + names.map(x => \"<tr><td>\" + x.mkString(\",\") + \" </td></tr>\").mkString(\" \") + \"</table>\")"
   ]
  },
  {
   "cell_type": "code",
   "execution_count": 8,
   "metadata": {
    "collapsed": false
   },
   "outputs": [
    {
     "data": {
      "text/html": [
       "<b> something bold </b>"
      ]
     },
     "execution_count": 8,
     "metadata": {},
     "output_type": "execute_result"
    }
   ],
   "source": [
    "%%html <b> something bold </b>"
   ]
  },
  {
   "cell_type": "code",
   "execution_count": null,
   "metadata": {
    "collapsed": true
   },
   "outputs": [],
   "source": []
  }
 ],
 "metadata": {
  "kernelspec": {
   "display_name": "Spark 1.2.1 (Scala 2.10.4)",
   "language": "scala",
   "name": "spark"
  },
  "language_info": {
   "name": "scala"
  }
 },
 "nbformat": 4,
 "nbformat_minor": 0
}
