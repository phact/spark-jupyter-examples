{
 "cells": [
  {
   "cell_type": "markdown",
   "metadata": {},
   "source": [
    "# Welcome to This Jupyter example\n",
    "You simply type stuff in the \"In\" boxes, and it the play button.  You can also it shift-enter to play the box.  The cell menu lets you click multiple boxes.   This sort of thing can be the future of our self-paced spark spark training.\n"
   ]
  },
  {
   "cell_type": "code",
   "execution_count": 10,
   "metadata": {
    "collapsed": false
   },
   "outputs": [],
   "source": [
    "val x = sc.cassandraTable(\"retail\",\"products_by_id\")"
   ]
  },
  {
   "cell_type": "code",
   "execution_count": 2,
   "metadata": {
    "collapsed": false
   },
   "outputs": [],
   "source": [
    "x.first"
   ]
  },
  {
   "cell_type": "markdown",
   "metadata": {},
   "source": [
    "## Some Case Class Example with some markdown\n",
    "Lets look at the stores table"
   ]
  },
  {
   "cell_type": "code",
   "execution_count": 3,
   "metadata": {
    "collapsed": true
   },
   "outputs": [],
   "source": [
    "case class Store(\n",
    "                  store_id: Int,\n",
    "                  address: String,\n",
    "                  address_2: String,\n",
    "                  address_3: String,\n",
    "                  city: String,\n",
    "                  state: String,\n",
    "                  zip: Long,\n",
    "                  size_in_sf: Int)"
   ]
  },
  {
   "cell_type": "markdown",
   "metadata": {},
   "source": [
    "## RDD based on the store table"
   ]
  },
  {
   "cell_type": "code",
   "execution_count": 4,
   "metadata": {
    "collapsed": true
   },
   "outputs": [],
   "source": [
    "   val stores = sc.cassandraTable(\"retail\",\"stores\").select(\"store_id\",\"address\",\n",
    "      \"address_2\",\"address_3\",\"city\",\"state\",\"zip\",\"size_in_sf\"\n",
    "    ).as(Store)\n"
   ]
  },
  {
   "cell_type": "code",
   "execution_count": 5,
   "metadata": {
    "collapsed": false
   },
   "outputs": [
    {
     "data": {
      "text/plain": [
       "Store(23,KENNEWICKCOLUMBIA CTR 013383,405 COLUMBIA CTR,null,KENNEWICK,WA,99336,2250)"
      ]
     },
     "execution_count": 5,
     "metadata": {},
     "output_type": "execute_result"
    }
   ],
   "source": [
    "stores.first"
   ]
  },
  {
   "cell_type": "markdown",
   "metadata": {},
   "source": [
    "## Another RDD based on receipts.  \n",
    "### No case class as it's only two columns"
   ]
  },
  {
   "cell_type": "code",
   "execution_count": 6,
   "metadata": {
    "collapsed": true
   },
   "outputs": [],
   "source": [
    "val receipts = sc.cassandraTable(\"retail\",\"receipts_by_store_date\")"
   ]
  },
  {
   "cell_type": "code",
   "execution_count": 7,
   "metadata": {
    "collapsed": false
   },
   "outputs": [],
   "source": [
    "import scala.math.BigDecimal.RoundingMode\n",
    "\n",
    "val total_receipts_by_store = receipts.map(r => (r.getInt(\"store_id\"), r.getDecimal(\"receipt_total\").setScale(2,RoundingMode.HALF_EVEN) )  ).reduceByKey(_+_)   // Add up by store"
   ]
  },
  {
   "cell_type": "code",
   "execution_count": 8,
   "metadata": {
    "collapsed": false
   },
   "outputs": [
    {
     "name": "stdout",
     "output_type": "stream",
     "text": [
      "(100,14369380.79)\n",
      "(160,14711452.74)\n",
      "(230,14872473.40)\n",
      "(150,14734646.26)\n",
      "(280,14507754.33)\n",
      "(340,14621540.23)\n",
      "(130,14299471.24)\n",
      "(320,14478367.64)\n",
      "(120,14503646.40)\n",
      "(300,14605612.77)\n",
      "(200,14627522.83)\n",
      "(310,14467906.11)\n",
      "(370,14816931.52)\n",
      "(80,14707218.35)\n",
      "(240,14664780.44)\n",
      "(170,14500218.08)\n",
      "(180,14706729.70)\n",
      "(30,14541832.20)\n",
      "(50,14400995.69)\n",
      "(260,14500770.36)\n",
      "(220,14566420.55)\n",
      "(350,14593686.02)\n",
      "(110,14752016.82)\n",
      "(270,14641713.18)\n",
      "(210,14448530.35)\n",
      "(140,14427847.52)\n",
      "(250,14735308.33)\n",
      "(380,14421321.92)\n",
      "(390,14268872.15)\n",
      "(190,14516036.65)\n",
      "(90,14527755.86)\n",
      "(290,14480481.44)\n",
      "(70,14519051.59)\n",
      "(20,14551477.98)\n",
      "(400,14413932.96)\n",
      "(60,14556925.73)\n",
      "(40,14611294.27)\n",
      "(360,14446638.78)\n",
      "(10,14571690.36)\n",
      "(330,14623871.73)\n",
      "(381,14794568.40)\n",
      "(61,14519859.24)\n",
      "(151,14704119.55)\n",
      "(101,14586228.60)\n",
      "(81,14386851.51)\n",
      "(21,14516410.53)\n",
      "(321,14765608.23)\n",
      "(301,14545875.48)\n",
      "(71,14395330.47)\n",
      "(331,14685995.34)\n",
      "(41,14621258.50)\n",
      "(261,14302369.20)\n",
      "(231,14692603.08)\n",
      "(281,14468834.71)\n",
      "(131,14467335.84)\n",
      "(171,14812348.97)\n",
      "(121,14477048.94)\n",
      "(351,14322194.54)\n",
      "(311,14569902.34)\n",
      "(11,14336310.00)\n",
      "(191,14503106.71)\n",
      "(371,14627764.00)\n",
      "(111,14383070.41)\n",
      "(161,14534590.93)\n",
      "(51,14491210.08)\n",
      "(181,14395179.74)\n",
      "(201,14614797.98)\n",
      "(291,14535948.38)\n",
      "(1,14285202.81)\n",
      "(141,14552286.02)\n",
      "(221,14595092.91)\n",
      "(341,14533073.83)\n",
      "(361,14680029.99)\n",
      "(241,14523526.29)\n",
      "(251,14778155.37)\n",
      "(91,14379568.10)\n",
      "(211,14463151.89)\n",
      "(391,14604956.60)\n",
      "(31,14660887.50)\n",
      "(271,14490839.28)\n",
      "(312,14436651.01)\n",
      "(122,14264385.47)\n",
      "(192,14645478.25)\n",
      "(52,14432285.15)\n",
      "(332,14423803.76)\n",
      "(112,14534842.26)\n",
      "(82,14785239.11)\n",
      "(232,14529759.25)\n",
      "(22,14425999.06)\n",
      "(182,14442920.30)\n",
      "(292,14500147.72)\n",
      "(222,14498920.93)\n",
      "(142,14439150.41)\n",
      "(352,14710216.38)\n",
      "(32,14380588.65)\n",
      "(92,14582967.98)\n",
      "(152,14422896.05)\n",
      "(262,14367882.28)\n",
      "(172,14703494.58)\n",
      "(272,14478647.00)\n"
     ]
    }
   ],
   "source": [
    "total_receipts_by_store take 100 foreach println"
   ]
  },
  {
   "cell_type": "code",
   "execution_count": 9,
   "metadata": {
    "collapsed": false
   },
   "outputs": [
    {
     "name": "stdout",
     "output_type": "stream",
     "text": [
      "(100,14369380.79)\n"
     ]
    }
   ],
   "source": [
    "total_receipts_by_store take 1 foreach println\n"
   ]
  },
  {
   "cell_type": "code",
   "execution_count": 12,
   "metadata": {
    "collapsed": false
   },
   "outputs": [
    {
     "data": {
      "text/plain": [
       "Name: Compile Error\n",
       "Message: <console>:16: error: not found: value spark\n",
       "       import spark.sqlContext.implicits._\n",
       "              ^\n",
       "StackTrace: "
      ]
     },
     "execution_count": 12,
     "metadata": {},
     "output_type": "execute_result"
    }
   ],
   "source": [
    "import sqlContext.implicits._\n"
   ]
  },
  {
   "cell_type": "code",
   "execution_count": null,
   "metadata": {
    "collapsed": true
   },
   "outputs": [],
   "source": []
  },
  {
   "cell_type": "code",
   "execution_count": 24,
   "metadata": {
    "collapsed": true
   },
   "outputs": [],
   "source": [
    "val sqlContext = new org.apache.spark.sql.SQLContext(sc)\n"
   ]
  },
  {
   "cell_type": "code",
   "execution_count": null,
   "metadata": {
    "collapsed": true
   },
   "outputs": [],
   "source": []
  },
  {
   "cell_type": "code",
   "execution_count": 25,
   "metadata": {
    "collapsed": true
   },
   "outputs": [],
   "source": [
    "import sqlContext.implicits._\n"
   ]
  },
  {
   "cell_type": "code",
   "execution_count": 16,
   "metadata": {
    "collapsed": false
   },
   "outputs": [
    {
     "data": {
      "text/plain": [
       "Name: Compile Error\n",
       "Message: <console>:28: error: value toDf is not a member of org.apache.spark.rdd.RDD[(Int, scala.math.BigDecimal)]\n",
       "              total_receipts_by_store.toDf\n",
       "                                      ^\n",
       "StackTrace: "
      ]
     },
     "execution_count": 16,
     "metadata": {},
     "output_type": "execute_result"
    }
   ],
   "source": [
    "total_receipts_by_store.toDf"
   ]
  },
  {
   "cell_type": "code",
   "execution_count": 27,
   "metadata": {
    "collapsed": true
   },
   "outputs": [],
   "source": [
    "val products = sc.cassandraTable(\"retail\",\"products_by_id\").select(\"product_id\",\"title\").as((_:String,_:String))\n"
   ]
  },
  {
   "cell_type": "code",
   "execution_count": 29,
   "metadata": {
    "collapsed": false
   },
   "outputs": [
    {
     "data": {
      "text/plain": [
       "(KDL-40W4000,Sony KDL-40W4000 LCD TV)"
      ]
     },
     "execution_count": 29,
     "metadata": {},
     "output_type": "execute_result"
    }
   ],
   "source": [
    "products.first.toString\n"
   ]
  },
  {
   "cell_type": "code",
   "execution_count": 30,
   "metadata": {
    "collapsed": false
   },
   "outputs": [
    {
     "data": {
      "text/plain": [
       "[_1: string, _2: string]"
      ]
     },
     "execution_count": 30,
     "metadata": {},
     "output_type": "execute_result"
    }
   ],
   "source": [
    "products.toDF()"
   ]
  },
  {
   "cell_type": "code",
   "execution_count": 43,
   "metadata": {
    "collapsed": false
   },
   "outputs": [],
   "source": [
    "val productsDF = sqlContext.load(\"org.apache.spark.sql.cassandra\",Map(\"keyspace\"->\"retail\", \"c_table\" -> \"products_by_id\"))"
   ]
  },
  {
   "cell_type": "code",
   "execution_count": 45,
   "metadata": {
    "collapsed": false
   },
   "outputs": [
    {
     "name": "stdout",
     "output_type": "stream",
     "text": [
      "product_id      category_id category_name        features             long_description     price release_date         short_description    solr_query supplier_id supplier_name title                url                 \n",
      "KDL-40W4000     1078        LCD TVs              null                 &lt;br/&gt;&lt;br... null  2010-06-10 00:00:... 102cm / 40&quot; ... null       5           Sony          Sony KDL-40W4000 ... null                \n",
      "25204910        2509        notebook spare parts Map(Compatibility... - High qualityn- ... null  2014-06-10 00:00:... Keyboard for Idea... null       728         Lenovo        Lenovo 25204910 n... http://www.lenovo...\n",
      "SLTA65VY        575         digital cameras      Map(Still image r... &lt;b&gt;Built to... null  2011-09-07 00:00:... 3.0'' LCD, CMOS, ... null       5           Sony          Sony SLT-A65 Body... http://www.sony.l...\n",
      "405-51          1291        peripheral device... Map(Package depth... null                 null  2015-04-01 00:00:... A Sandberg Design... null       1636        Sandberg      Sandberg Cover Ga... http://www.sandbe...\n",
      "U0M10PE         788         warranty &amp; su... null                 HP Care Pack Serv... null  2012-04-20 00:00:... HP 1yPW Nbd+DMR D... null       1           HP            HP 1yPW Nbd+DMR D... null                \n",
      "DT.SXLEB.014    153         PCs/workstations     Map(Processor fre... &lt;b&gt;One thir... null  2015-03-10 00:00:... Intel Core i5-446... null       7           Acer          Acer Aspire XC-705   http://us.acer.co...\n",
      "BK841A          953         fiber optic cables   Map(Certification... Information techn... null  2010-09-30 00:00:... HP 15m Premier Fl... null       1           HP            HP 15m Premier Fl... http://h30094.www...\n",
      "332784810       1796        wall lighting        Map(Replacement b... &lt;b&gt;Living a... null  2013-08-12 00:00:... 1 x E27, max 60W,... null       8761        Massive       Massive Wall ligh... http://www.massiv...\n",
      "GSM7228S-100NES 258         network switches     Map(Storage tempe... null                 null  2012-08-05 00:00:... null                 null       104         Netgear       Netgear M5300-28G    null                \n",
      "U3MK5E          1546        IT support services  null                 HP Care Pack Supp... null  2014-04-06 00:00:... HP 4 year Next bu... null       1           HP            HP 4y Nbd Exch 68... null                \n",
      "402-91          998         holders              Map(Power source ... - Adjustable, fle... null  2012-08-21 00:00:... - Adjustable, fle... null       1636        Sandberg      Sandberg In Car U... http://www.sandbe...\n",
      "R730-8203       156         servers              Map(Storage tempe... &lt;b&gt;Tackle a... null  2015-04-03 00:00:... Intel Xeon E5-260... null       292         DELL          DELL PowerEdge R730  http://www.dell.c...\n",
      "302F993088      2595        printer/scanner s... Map(Compatibility... Main Charge Unit ... null  2013-04-12 00:00:... Main Charge Unit ... null       19          KYOCERA       KYOCERA 302F993088   http://www.kyocer...\n",
      "SGP311E4/B      897         tablets              Map(Processor fre... &lt;b&gt;So brill... null  2013-05-05 00:00:... Z, 16GB, 25.654 c... null       5           Sony          Sony Xperia Z        http://www.sonymo...\n",
      "5610-5097       153         PCs/workstations     Map(Water cooling... &lt;b&gt;Dual-soc... null  2014-10-20 00:00:... Precision T5610 -... null       292         DELL          DELL Precision T5610 http://www.dell.c...\n",
      "D9Z11A          1170        not categorized      null                 null                 null  2013-06-13 00:00:... SUSE Linux Enterp... null       1           HP            HP SUSE Linux Ent... null                \n",
      "65228548        26          desktop publishin... Map(Language vers... &lt;b&gt;What is ... null  2013-12-04 00:00:... Technical Communi... null       8           Adobe         Adobe Technical C... http://www.adobe....\n",
      "U3MU7E          1546        IT support services  null                 HP Care Pack Supp... null  2014-04-06 00:00:... HP 5 year Next bu... null       1           HP            HP 5y Nbd Exch MS... null                \n",
      "3600-0713       153         PCs/workstations     Map(Processor fre... &lt;b&gt;Experien... null  2013-04-07 00:00:... Intel Xeon E5-162... null       292         DELL          DELL Precision T3600 http://www.dell.c...\n",
      "4044951016228   237         computer cases       Map(Rear fans ins... The VG4-W case st... null  2014-09-03 00:00:... mini-ITX/micro-AT... null       1683        Sharkoon      Sharkoon VG4-W       http://www.sharko...\n"
     ]
    }
   ],
   "source": [
    "productsDF.show"
   ]
  },
  {
   "cell_type": "code",
   "execution_count": null,
   "metadata": {
    "collapsed": true
   },
   "outputs": [],
   "source": []
  }
 ],
 "metadata": {
  "kernelspec": {
   "display_name": "Spark 1.2.1 (Scala 2.10.4)",
   "language": "scala",
   "name": "spark"
  },
  "language_info": {
   "name": "scala"
  }
 },
 "nbformat": 4,
 "nbformat_minor": 0
}
